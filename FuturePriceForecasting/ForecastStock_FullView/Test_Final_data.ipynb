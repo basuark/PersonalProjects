{
 "cells": [
  {
   "cell_type": "code",
   "execution_count": 1,
   "id": "1c9efb05",
   "metadata": {},
   "outputs": [],
   "source": [
    "from ForecastAnyStock import Forecast1"
   ]
  },
  {
   "cell_type": "code",
   "execution_count": 2,
   "id": "4ba3e689",
   "metadata": {},
   "outputs": [],
   "source": [
    "#STOCKS_SCREENED_FOR21MAY=['PFC.NS','IBULHSGFIN','MOTHERSUMI']"
   ]
  },
  {
   "cell_type": "code",
   "execution_count": 3,
   "id": "f6e93bbf",
   "metadata": {},
   "outputs": [
    {
     "name": "stdout",
     "output_type": "stream",
     "text": [
      "File PFC.NS.csv has been saved\n",
      "File history_fibonacciPFC.NS.csv has been saved\n"
     ]
    },
    {
     "data": {
      "text/plain": [
       "(120.6, 0.12830482423305511)"
      ]
     },
     "execution_count": 3,
     "metadata": {},
     "output_type": "execute_result"
    }
   ],
   "source": [
    "# tARGET, NORMALIZED TEST LOSS - PFC.NS\n",
    "predict,  loss=Forecast1('PFC.NS')\n",
    "pfcnsT,pfcnsL= predict,  loss\n",
    "pfcnsT,pfcnsL"
   ]
  },
  {
   "cell_type": "code",
   "execution_count": 4,
   "id": "700c1852",
   "metadata": {},
   "outputs": [
    {
     "name": "stdout",
     "output_type": "stream",
     "text": [
      "File MOTHERSUMI.NS.csv has been saved\n",
      "File history_fibonacciMOTHERSUMI.NS.csv has been saved\n"
     ]
    },
    {
     "data": {
      "text/plain": [
       "(186.47, 0.09625782817602158)"
      ]
     },
     "execution_count": 4,
     "metadata": {},
     "output_type": "execute_result"
    }
   ],
   "source": [
    "# MOTHERSUMI\n",
    "MSpredict,MSloss = Forecast1('MOTHERSUMI.NS')\n",
    "MSpredict,MSloss"
   ]
  },
  {
   "cell_type": "code",
   "execution_count": 5,
   "id": "a9e076ab",
   "metadata": {},
   "outputs": [
    {
     "name": "stdout",
     "output_type": "stream",
     "text": [
      "File IBULHSGFIN.NS.csv has been saved\n",
      "File history_fibonacciIBULHSGFIN.NS.csv has been saved\n"
     ]
    },
    {
     "data": {
      "text/plain": [
       "(220.79, 0.073768250644207)"
      ]
     },
     "execution_count": 5,
     "metadata": {},
     "output_type": "execute_result"
    }
   ],
   "source": [
    "# tARGET, NORMALIZED TEST LOSS - IBULHSGFIN.NS\n",
    "predict,  loss=Forecast1('IBULHSGFIN.NS')\n",
    "predict,  loss"
   ]
  },
  {
   "cell_type": "code",
   "execution_count": null,
   "id": "ce756d5e",
   "metadata": {},
   "outputs": [],
   "source": []
  }
 ],
 "metadata": {
  "kernelspec": {
   "display_name": "Python 3 (ipykernel)",
   "language": "python",
   "name": "python3"
  },
  "language_info": {
   "codemirror_mode": {
    "name": "ipython",
    "version": 3
   },
   "file_extension": ".py",
   "mimetype": "text/x-python",
   "name": "python",
   "nbconvert_exporter": "python",
   "pygments_lexer": "ipython3",
   "version": "3.10.0"
  }
 },
 "nbformat": 4,
 "nbformat_minor": 5
}
