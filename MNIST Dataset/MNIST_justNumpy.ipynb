{
 "cells": [
  {
   "cell_type": "code",
   "execution_count": 3,
   "metadata": {},
   "outputs": [],
   "source": [
    "# importing Libraries\n",
    "import numpy as np\n",
    "import matplotlib.pyplot as plt\n",
    "\n",
    "import warnings\n",
    "warnings.filterwarnings(\"ignore\")\n",
    "\n",
    "%matplotlib inline"
   ]
  },
  {
   "cell_type": "code",
   "execution_count": 2,
   "metadata": {},
   "outputs": [],
   "source": [
    "# Data in .pkl.gz format\n",
    "import gzip\n",
    "import pickle"
   ]
  },
  {
   "cell_type": "code",
   "execution_count": 3,
   "metadata": {},
   "outputs": [],
   "source": [
    "def load_data():\n",
    "    f = gzip.open('mnist.pkl.gz', 'rb')\n",
    "    f.seek(0)\n",
    "    training_data, validation_data, test_data = pickle.load(f, encoding='latin1')\n",
    "    f.close()\n",
    "    return (training_data, validation_data, test_data)"
   ]
  },
  {
   "cell_type": "code",
   "execution_count": 4,
   "metadata": {},
   "outputs": [],
   "source": [
    "training_data, validation_data, test_data = load_data()"
   ]
  },
  {
   "cell_type": "markdown",
   "metadata": {},
   "source": [
    "### Data understanding"
   ]
  },
  {
   "cell_type": "code",
   "execution_count": 5,
   "metadata": {},
   "outputs": [
    {
     "name": "stdout",
     "output_type": "stream",
     "text": [
      "<class 'tuple'> 2\n"
     ]
    }
   ],
   "source": [
    "print(type(training_data),len(training_data))"
   ]
  },
  {
   "cell_type": "code",
   "execution_count": 6,
   "metadata": {},
   "outputs": [
    {
     "data": {
      "text/plain": [
       "(array([[0., 0., 0., ..., 0., 0., 0.],\n",
       "        [0., 0., 0., ..., 0., 0., 0.],\n",
       "        [0., 0., 0., ..., 0., 0., 0.],\n",
       "        ...,\n",
       "        [0., 0., 0., ..., 0., 0., 0.],\n",
       "        [0., 0., 0., ..., 0., 0., 0.],\n",
       "        [0., 0., 0., ..., 0., 0., 0.]], dtype=float32),\n",
       " array([5, 0, 4, ..., 8, 4, 8], dtype=int64))"
      ]
     },
     "execution_count": 6,
     "metadata": {},
     "output_type": "execute_result"
    }
   ],
   "source": [
    "training_data"
   ]
  },
  {
   "cell_type": "markdown",
   "metadata": {},
   "source": [
    "- ok, so we have two numpy arrays in the tuple\n",
    "- First features set then labels"
   ]
  },
  {
   "cell_type": "code",
   "execution_count": 7,
   "metadata": {},
   "outputs": [
    {
     "name": "stdout",
     "output_type": "stream",
     "text": [
      "(50000, 784) (50000,)\n"
     ]
    }
   ],
   "source": [
    "print(training_data[0].shape,training_data[1].shape)"
   ]
  },
  {
   "cell_type": "code",
   "execution_count": 8,
   "metadata": {},
   "outputs": [
    {
     "name": "stdout",
     "output_type": "stream",
     "text": [
      "(10000, 784) (10000,)\n",
      "(10000, 784) (10000,)\n"
     ]
    }
   ],
   "source": [
    "print(validation_data[0].shape,validation_data[1].shape)\n",
    "print(test_data[0].shape,test_data[1].shape)"
   ]
  },
  {
   "cell_type": "code",
   "execution_count": 9,
   "metadata": {},
   "outputs": [
    {
     "data": {
      "text/plain": [
       "(28, 28)"
      ]
     },
     "execution_count": 9,
     "metadata": {},
     "output_type": "execute_result"
    }
   ],
   "source": [
    "# What is training data ? I believe it is 28x28 image. LEts check it out\n",
    "samplearr = training_data[0][0]\n",
    "samplearr = samplearr.reshape(28,28)\n",
    "samplearr.shape\n"
   ]
  },
  {
   "cell_type": "code",
   "execution_count": 10,
   "metadata": {},
   "outputs": [],
   "source": [
    "# Lets try imshow from matplotlib to check if it shows anything\n",
    "def showImage(arr):\n",
    "    #wrote these lines before but making it function for future usage\n",
    "    plt.figure(figsize=(1,1))\n",
    "    plt.imshow(arr,cmap='Greys')"
   ]
  },
  {
   "cell_type": "code",
   "execution_count": 11,
   "metadata": {},
   "outputs": [
    {
     "data": {
      "image/png": "[encoded data removed]",
      "text/plain": [
       "<Figure size 72x72 with 1 Axes>"
      ]
     },
     "metadata": {
      "needs_background": "light"
     },
     "output_type": "display_data"
    },
    {
     "data": {
      "image/png": "[encoded data removed]",
      "text/plain": [
       "<Figure size 72x72 with 1 Axes>"
      ]
     },
     "metadata": {
      "needs_background": "light"
     },
     "output_type": "display_data"
    }
   ],
   "source": [
    "samplearr = training_data[0][0]\n",
    "samplearr = samplearr.reshape(28,28)\n",
    "showImage(samplearr) # It should be 5 \n",
    "samplearr = training_data[0][1]\n",
    "samplearr = samplearr.reshape(28,28)\n",
    "showImage(samplearr) # It should be 0"
   ]
  },
  {
   "cell_type": "markdown",
   "metadata": {},
   "source": [
    "- In case of training the 784 inputs would come together to form input for the network\n",
    "- The target is a number / digit labeled for each cases\n",
    "- For each 784 inputs, given a label from 10 digits - it is better to compute probability of the output labels being a certain class\n",
    "- Hence, converting the target datasets into one hot encoded vectors"
   ]
  },
  {
   "cell_type": "code",
   "execution_count": 14,
   "metadata": {},
   "outputs": [],
   "source": [
    "# defining one hot encoded vector  # label Binarizer can be used\n",
    "def onehot(data):\n",
    "    num = data.shape[0]\n",
    "    arr = np.zeros((10,num))\n",
    "    \n",
    "    col=0\n",
    "    for i in data:\n",
    "        arr[i][col] =1\n",
    "        col+=1\n",
    "    \n",
    "    return arr"
   ]
  },
  {
   "cell_type": "code",
   "execution_count": 15,
   "metadata": {},
   "outputs": [
    {
     "data": {
      "text/plain": [
       "array([[0., 0., 0.],\n",
       "       [0., 1., 0.],\n",
       "       [0., 0., 1.],\n",
       "       [0., 0., 0.],\n",
       "       [0., 0., 0.],\n",
       "       [1., 0., 0.],\n",
       "       [0., 0., 0.],\n",
       "       [0., 0., 0.],\n",
       "       [0., 0., 0.],\n",
       "       [0., 0., 0.]])"
      ]
     },
     "execution_count": 15,
     "metadata": {},
     "output_type": "execute_result"
    }
   ],
   "source": [
    "onehot(np.array([5,1,2]))"
   ]
  },
  {
   "cell_type": "code",
   "execution_count": 17,
   "metadata": {},
   "outputs": [
    {
     "name": "stdout",
     "output_type": "stream",
     "text": [
      "(784, 50000) (10, 50000)\n"
     ]
    }
   ],
   "source": [
    "#Let us format the datasets correctly\n",
    "train_df_X = training_data[0].T\n",
    "train_df_y = onehot(training_data[1])\n",
    "print(train_df_X.shape,train_df_y.shape)"
   ]
  },
  {
   "cell_type": "markdown",
   "metadata": {},
   "source": [
    "- We will process 1 input set as a single batch and 1 column in the target is the output of that batch"
   ]
  },
  {
   "cell_type": "code",
   "execution_count": 19,
   "metadata": {},
   "outputs": [
    {
     "name": "stdout",
     "output_type": "stream",
     "text": [
      "Validation Dataset : (784, 10000) (10, 10000)\n",
      "Test Dataset : (784, 10000) (10, 10000)\n"
     ]
    }
   ],
   "source": [
    "# Doing the same for validation and test sets\n",
    "validation_X = validation_data[0].T\n",
    "validation_y = onehot(validation_data[1])\n",
    "\n",
    "test_X = test_data[0].T\n",
    "test_y = onehot(test_data[1])\n",
    "\n",
    "print(\"Validation Dataset :\", validation_X.shape,validation_y.shape)\n",
    "print(\"Test Dataset :\",test_X.shape,test_y.shape)"
   ]
  },
  {
   "cell_type": "markdown",
   "metadata": {},
   "source": [
    "- In our case we would like to keep input layer having 784 neurons for each input datapoint\n",
    "- 1 hidden layer having 45 neurons taking inputs from all input layer\n",
    "- Output layer with 10 neurons which would give probabilities of each labels\n",
    "<img src=\"feedforward.jpg\" alt=\"feedforward\"></img>"
   ]
  },
  {
   "cell_type": "markdown",
   "metadata": {},
   "source": [
    "- Let us define activation functions first"
   ]
  },
  {
   "cell_type": "code",
   "execution_count": 20,
   "metadata": {},
   "outputs": [],
   "source": [
    "# Relu\n",
    "def relu(arr):\n",
    "    out = np.maximum(0,arr)\n",
    "    assert(out.shape == arr.shape)\n",
    "    return out,arr"
   ]
  },
  {
   "cell_type": "code",
   "execution_count": 21,
   "metadata": {},
   "outputs": [
    {
     "data": {
      "text/plain": [
       "(array([  1,   3,   0, 100,   0]), array([   1,    3,   -3,  100, -100]))"
      ]
     },
     "execution_count": 21,
     "metadata": {},
     "output_type": "execute_result"
    }
   ],
   "source": [
    "# Testing relu fn\n",
    "relu(np.array([1,3,-3,100,-100]))"
   ]
  },
  {
   "cell_type": "code",
   "execution_count": 22,
   "metadata": {},
   "outputs": [],
   "source": [
    "# Softmax\n",
    "def softmax(arr):\n",
    "    Z_exp = np.exp(arr)\n",
    "    Z_sum = np.sum(Z_exp,axis=0,keepdims=True)\n",
    "    out = Z_exp/Z_sum\n",
    "    return out,arr"
   ]
  },
  {
   "cell_type": "code",
   "execution_count": 23,
   "metadata": {},
   "outputs": [
    {
     "data": {
      "text/plain": [
       "(array([1.01122149e-43, 7.47197234e-43, 1.85211677e-45, 1.00000000e+00,\n",
       "        1.38389653e-87]),\n",
       " array([   1,    3,   -3,  100, -100]))"
      ]
     },
     "execution_count": 23,
     "metadata": {},
     "output_type": "execute_result"
    }
   ],
   "source": [
    "softmax(np.array([1,3,-3,100,-100]))"
   ]
  },
  {
   "cell_type": "code",
   "execution_count": 24,
   "metadata": {},
   "outputs": [],
   "source": [
    "# Sigmoid\n",
    "def sigmoid(arr):\n",
    "    Z_exp= np.exp(-arr)\n",
    "    out = 1/(1+Z_exp)\n",
    "    return out,arr"
   ]
  },
  {
   "cell_type": "code",
   "execution_count": 25,
   "metadata": {
    "scrolled": true
   },
   "outputs": [
    {
     "data": {
      "text/plain": [
       "(array([7.31058579e-01, 9.52574127e-01, 4.74258732e-02, 1.00000000e+00,\n",
       "        3.72007598e-44]),\n",
       " array([   1,    3,   -3,  100, -100]))"
      ]
     },
     "execution_count": 25,
     "metadata": {},
     "output_type": "execute_result"
    }
   ],
   "source": [
    "sigmoid(np.array([1,3,-3,100,-100]))"
   ]
  },
  {
   "cell_type": "code",
   "execution_count": 1,
   "metadata": {},
   "outputs": [],
   "source": [
    "# Initialize parameters\n",
    "dimensions = [784,45,10]\n",
    "def initialize_parameters(dimensions):\n",
    "    \n",
    "    # dimensions is a list containing the number of neuron in each layer in the network\n",
    "    # It returns parameters which is a python dictionary containing the parameters \"W1\", \"b1\", ..., \"WL\", \"bL\":\n",
    "\n",
    "    np.random.seed(2)\n",
    "    parameters = {}\n",
    "    L = len(dimensions)            # number of layers in the network + 1\n",
    "\n",
    "    for l in range(1, L): \n",
    "        parameters['W' + str(l)] = np.random.randn(dimensions[l], dimensions[l-1]) * 0.1\n",
    "        parameters['b' + str(l)] = np.zeros((dimensions[l], 1)) \n",
    "        \n",
    "        assert(parameters['W' + str(l)].shape == (dimensions[l], dimensions[l-1]))\n",
    "        assert(parameters['b' + str(l)].shape == (dimensions[l], 1))\n",
    "\n",
    "        \n",
    "    return parameters"
   ]
  },
  {
   "cell_type": "code",
   "execution_count": 4,
   "metadata": {},
   "outputs": [
    {
     "name": "stdout",
     "output_type": "stream",
     "text": [
      "W1 = [[-0.04167578 -0.00562668 -0.21361961 ... -0.06168445  0.03213358\n",
      "  -0.09464469]\n",
      " [-0.05301394 -0.1259207   0.16775441 ... -0.03284246 -0.05623108\n",
      "   0.01179136]\n",
      " [ 0.07386378 -0.15872956  0.01532001 ... -0.08428557  0.10040469\n",
      "   0.00545832]\n",
      " ...\n",
      " [ 0.08905062  0.07040399 -0.08219343 ... -0.01449245 -0.06122183\n",
      "   0.02644657]\n",
      " [-0.08982216 -0.03764587 -0.05486391 ...  0.11571805 -0.06069458\n",
      "   0.01906126]\n",
      " [ 0.07903911 -0.0149561  -0.09171207 ...  0.17660684 -0.13286932\n",
      "  -0.05818293]]\n",
      "b1 = [[0.]\n",
      " [0.]\n",
      " [0.]\n",
      " [0.]\n",
      " [0.]\n",
      " [0.]\n",
      " [0.]\n",
      " [0.]\n",
      " [0.]\n",
      " [0.]\n",
      " [0.]\n",
      " [0.]\n",
      " [0.]\n",
      " [0.]\n",
      " [0.]\n",
      " [0.]\n",
      " [0.]\n",
      " [0.]\n",
      " [0.]\n",
      " [0.]\n",
      " [0.]\n",
      " [0.]\n",
      " [0.]\n",
      " [0.]\n",
      " [0.]\n",
      " [0.]\n",
      " [0.]\n",
      " [0.]\n",
      " [0.]\n",
      " [0.]\n",
      " [0.]\n",
      " [0.]\n",
      " [0.]\n",
      " [0.]\n",
      " [0.]\n",
      " [0.]\n",
      " [0.]\n",
      " [0.]\n",
      " [0.]\n",
      " [0.]\n",
      " [0.]\n",
      " [0.]\n",
      " [0.]\n",
      " [0.]\n",
      " [0.]]\n",
      "W2 = [[ 1.17468571e-02 -5.02481234e-02 -3.14525825e-02 -2.27898280e-03\n",
      "   6.72031394e-02 -1.06401759e-01  5.14211713e-02 -9.71999970e-02\n",
      "  -1.02584659e-01  1.41976359e-01  1.37019480e-01 -6.54097115e-02\n",
      "   4.63439070e-02  4.03645330e-02  1.64252688e-01 -9.52313728e-02\n",
      "   1.16095163e-01 -1.76317067e-02 -2.86496769e-02  7.66775765e-02\n",
      "  -1.02404903e-01 -2.36651853e-02  4.09731037e-02 -7.24532419e-02\n",
      "  -6.68931735e-02  9.44072417e-02 -8.55873279e-03 -1.58553611e-01\n",
      "   1.71542248e-02  9.68529587e-02  1.27510698e-02 -5.24635935e-04\n",
      "   5.23205963e-02  1.62744929e-01 -7.08710158e-03 -2.65825985e-03\n",
      "  -5.76752354e-02  1.55725916e-01  1.63671210e-02 -9.52033570e-02\n",
      "  -1.75059488e-01  5.18128607e-02 -1.08119332e-01 -4.92621545e-02\n",
      "   8.67032483e-03]\n",
      " [-2.78670294e-02 -1.07551900e-01 -3.97779847e-02 -4.00289467e-03\n",
      "   3.95466542e-02  8.87982350e-02  3.18781471e-01  2.70050434e-02\n",
      "   6.85241256e-02 -5.71720630e-02  1.61929164e-01 -1.34277899e-01\n",
      "  -8.20919123e-02  7.25384349e-02  1.16387882e-02  2.09997026e-01\n",
      "   6.14133540e-02  3.17821068e-02  1.24141366e-01  7.76974309e-02\n",
      "  -5.36746363e-02  1.11783490e-01 -8.48828598e-02  8.67489778e-02\n",
      "  -4.46943756e-02  3.51478534e-02 -1.47481584e-01 -2.46845704e-03\n",
      "  -3.13504520e-02 -1.90559110e-01 -4.21285891e-02  8.42485726e-02\n",
      "  -3.96459858e-02  1.86409000e-02 -6.39043639e-02  7.22876257e-02\n",
      "  -1.04538216e-02  2.07921364e-01  9.33976394e-02  5.49094925e-02\n",
      "   1.24090624e-01  1.94141251e-01  8.20174847e-02 -8.23990419e-02\n",
      "   1.46233976e-01]\n",
      " [ 1.65573434e-01 -1.31628082e-01  1.24382195e-01 -2.31025735e-02\n",
      "   7.34636653e-02  7.96334175e-04 -1.69301997e-01  4.03871110e-02\n",
      "  -6.67962792e-02  1.23780706e-01 -5.99633238e-02  4.68280006e-02\n",
      "  -6.29731748e-02 -5.64673686e-02 -5.55650307e-02 -1.76906691e-01\n",
      "   2.62123061e-02  5.98060017e-03 -1.70950026e-01  7.28689726e-02\n",
      "   3.72909344e-02 -9.34966746e-03 -1.60002925e-02  1.41544832e-01\n",
      "  -7.91624273e-03 -1.00556501e-02 -1.24106201e-01  2.25360693e-01\n",
      "   3.69036801e-02  2.11926494e-01  3.44650711e-02 -2.17067840e-01\n",
      "   2.91405270e-02 -1.32552800e-02 -3.69571127e-02 -1.08721404e-01\n",
      "   1.97907896e-01 -6.51110392e-02 -1.15964378e-01  4.89294837e-02\n",
      "  -3.29564991e-02 -4.73630570e-02  8.68248295e-02  8.37658673e-02\n",
      "   2.65478439e-02]\n",
      " [ 2.42399939e-02  7.74917560e-02 -1.53057806e-02  4.30680344e-02\n",
      "   2.21837295e-01 -3.37245038e-03  1.37591899e-01 -8.18984826e-02\n",
      "   1.46472698e-02  1.98655671e-01 -6.06158144e-02 -9.83731484e-02\n",
      "  -1.23723975e-01 -5.95485271e-02  8.74151907e-02  1.02498395e-02\n",
      "   2.57753943e-01  1.05127577e-02 -6.09519128e-02 -2.75761319e-02\n",
      "   7.42130784e-02  2.11124104e-01  6.39451661e-02 -2.48462819e-01\n",
      "   4.61297044e-02 -1.83848428e-01  5.58823147e-02 -3.02666027e-03\n",
      "  -3.68302320e-02 -6.37798629e-02 -1.56212155e-01 -1.82728658e-03\n",
      "  -9.54494736e-02 -4.39781015e-02 -2.39488457e-02  1.21209190e-02\n",
      "  -7.69092768e-02 -4.42867523e-02  2.89189322e-02 -8.46854236e-03\n",
      "   1.37142853e-01 -1.17974885e-01  2.79751618e-02 -2.76806325e-01\n",
      "   4.57697833e-02]\n",
      " [ 2.20713595e-01 -2.19508206e-01 -1.73211112e-01 -1.08378890e-01\n",
      "   1.56919434e-01 -5.80832926e-02 -5.32426957e-02 -5.39463530e-02\n",
      "   7.39409555e-03 -4.82465065e-02  4.96517731e-02 -1.09491153e-03\n",
      "  -9.88668440e-02  1.70385104e-01  9.81652474e-02 -2.76657296e-02\n",
      "  -8.06750619e-02  1.28950798e-01  1.90159872e-01  5.78450490e-03\n",
      "  -9.52038002e-02 -9.93999925e-02  8.12549508e-02  6.61792439e-02\n",
      "  -1.33767169e-01  1.28165612e-01 -6.83306451e-02  6.88296736e-02\n",
      "  -2.74543752e-01 -4.35678110e-02 -8.31210672e-03 -2.51918552e-02\n",
      "   8.80097723e-03  7.13910081e-02 -1.08070683e-02 -5.64108116e-03\n",
      "   2.37397283e-03  6.60923889e-02 -4.22619579e-02 -6.85011404e-02\n",
      "  -6.55088830e-03 -2.52960049e-04 -6.72041228e-02 -6.51261124e-02\n",
      "  -1.45828628e-01]\n",
      " [-4.68929886e-02  5.51847767e-02  8.99896556e-02 -9.60256727e-02\n",
      "   3.03991332e-02 -2.59400242e-01  1.39264898e-01 -4.32447491e-02\n",
      "   1.41237547e-01 -9.19622643e-02 -5.26207354e-03 -4.80459887e-02\n",
      "   6.84505369e-02  4.37385361e-02 -3.07263474e-02  2.11564804e-01\n",
      "  -4.21788498e-02 -2.37746935e-01  1.93241957e-02 -4.88869640e-02\n",
      "   1.00558949e-01  1.95185844e-01  1.25969923e-01 -1.14670384e-01\n",
      "  -2.67955777e-01  4.63538288e-02  1.86490745e-01 -7.22167479e-02\n",
      "  -2.88437428e-01  1.17425261e-01 -2.69145672e-02 -1.37284921e-01\n",
      "   7.39880937e-02 -1.18205555e-01  3.58697101e-02  1.97767272e-02\n",
      "  -7.36163280e-02 -2.78778782e-02  7.63559766e-03 -1.62872866e-01\n",
      "   8.52474404e-02 -6.62827827e-02 -4.87831271e-02  5.90749340e-02\n",
      "  -1.03912874e-01]\n",
      " [ 7.29400387e-02 -1.06188620e-01 -8.27463660e-02  2.83603186e-02\n",
      "  -1.61271204e-02  1.83226773e-01 -4.37424602e-03  9.58566979e-02\n",
      "  -7.48522423e-03  3.90388364e-02 -2.40499769e-02 -4.90883231e-02\n",
      "   3.00264696e-02  3.12113671e-02 -2.11842727e-03 -1.18526413e-01\n",
      "   1.01435480e-01 -1.26424762e-02 -2.92140496e-02 -5.56176671e-03\n",
      "  -3.22008301e-01  5.20908205e-02 -4.71172909e-02  5.86113772e-02\n",
      "   5.65369027e-02  2.54738440e-01 -2.76608769e-02  8.18348955e-02\n",
      "  -1.97283960e-01  4.83730198e-02 -1.35420977e-02  1.37301955e-01\n",
      "   1.93918011e-02 -1.34225136e-01  8.61647741e-02  1.02261896e-02\n",
      "   2.24105209e-02  6.11262599e-02 -2.11749784e-01 -7.44406364e-02\n",
      "   5.13221581e-02 -8.93365434e-02  5.84747670e-02 -4.12704336e-03\n",
      "  -7.26467633e-02]\n",
      " [ 1.75653846e-01 -6.02911037e-02  5.08530745e-02  1.31736067e-02\n",
      "   1.32675927e-01 -6.67404923e-02 -7.96595448e-02 -1.06695275e-01\n",
      "   7.88566001e-02 -2.06228611e-01 -1.41531384e-01 -1.22936178e-01\n",
      "   2.19202793e-01 -3.65152911e-02 -8.10892359e-02 -2.77010940e-02\n",
      "  -3.56220551e-02  3.03396063e-02 -4.02587599e-02 -3.82370752e-02\n",
      "  -5.85964930e-03  4.92123887e-02 -5.27242405e-02  7.28431084e-02\n",
      "  -1.98280232e-02 -6.38777435e-03  2.95402292e-01 -4.86079498e-02\n",
      "   3.65600644e-02 -3.75605075e-02 -6.92493905e-02 -1.64852357e-01\n",
      "   5.01686909e-02 -1.28597628e-01 -6.24944937e-02  1.62617897e-01\n",
      "  -7.02863866e-02 -7.47393517e-02 -2.92637059e-02 -4.30466657e-03\n",
      "  -1.36377420e-01  1.57786861e-02 -8.21840337e-04 -2.92139597e-02\n",
      "  -2.19356065e-01]\n",
      " [ 1.80867662e-01 -4.71554666e-02 -3.68802539e-02  1.12520154e-02\n",
      "  -9.83153805e-02  1.79981422e-01  8.64730531e-02  9.80463441e-02\n",
      "   5.60155408e-02 -5.80603142e-02 -7.10474922e-02 -1.00656387e-01\n",
      "  -2.80132536e-01 -2.35446559e-01 -3.68889700e-02  1.90167689e-02\n",
      "   1.18240663e-01  5.58046631e-02 -6.92324340e-02 -1.39480840e-01\n",
      "  -2.68880237e-02 -5.30293378e-02  7.44982617e-02 -4.94277032e-02\n",
      "   9.48383920e-02 -2.45617224e-02  1.19252456e-01  6.93441857e-02\n",
      "   6.44770143e-02  1.15331592e-01 -4.34313873e-02 -8.71531161e-02\n",
      "   1.01318326e-01 -2.40273213e-01  9.83025672e-04 -1.33137496e-01\n",
      "  -7.86227257e-03 -2.33932028e-02 -4.60976883e-02  1.87238032e-01\n",
      "  -9.36857897e-02  9.70701960e-02  5.36373929e-02  4.15847120e-02\n",
      "   3.07210681e-02]\n",
      " [-7.16249391e-03 -1.54542362e-01 -2.10555033e-02  6.91346651e-02\n",
      "  -1.04585060e-01  1.09196992e-01 -1.46668833e-01 -8.71395825e-02\n",
      "  -8.78697266e-02 -4.38859472e-02  2.92219623e-02 -2.26228659e-01\n",
      "  -2.57662637e-02  2.41598646e-01 -1.19606119e-01  3.22168704e-03\n",
      "   1.20934029e-01 -1.73575945e-02  1.78757597e-01 -4.91688186e-02\n",
      "  -6.75263480e-03  3.12008865e-02  4.93504731e-02  4.14321583e-02\n",
      "   3.94023340e-02  2.36190503e-02 -9.96595657e-02  1.45815997e-01\n",
      "  -5.53806124e-02  3.86756133e-02  4.75905501e-02 -1.31741692e-01\n",
      "   1.36827055e-03  1.92497750e-02 -1.40097484e-02  4.64840158e-02\n",
      "   2.65023563e-02  7.12400307e-02  1.43209523e-02 -1.30550897e-02\n",
      "  -1.69419590e-01 -1.07772516e-01 -4.43441273e-02  2.98939288e-02\n",
      "  -1.19915626e-01]]\n",
      "b2 = [[0.]\n",
      " [0.]\n",
      " [0.]\n",
      " [0.]\n",
      " [0.]\n",
      " [0.]\n",
      " [0.]\n",
      " [0.]\n",
      " [0.]\n",
      " [0.]]\n"
     ]
    }
   ],
   "source": [
    "dimensions  = [784, 45,10]\n",
    "parameters = initialize_parameters(dimensions)\n",
    "print(\"W1 = \" + str(parameters[\"W1\"]))\n",
    "print(\"b1 = \" + str(parameters[\"b1\"]))\n",
    "print(\"W2 = \" + str(parameters[\"W2\"]))\n",
    "print(\"b2 = \" + str(parameters[\"b2\"]))"
   ]
  },
  {
   "cell_type": "code",
   "execution_count": 28,
   "metadata": {},
   "outputs": [],
   "source": [
    "def single_layer_forward(H_prev, W, b, activation = 'relu'):\n",
    "\n",
    "    # H_prev is of shape (size of previous layer, number of examples)\n",
    "    # W is weights matrix of shape (size of current layer, size of previous layer)\n",
    "    # b is bias vector of shape (size of the current layer, 1)\n",
    "    # activation is the activation to be used for forward propagation : \"softmax\", \"relu\", \"sigmoid\"\n",
    "\n",
    "    # H is the output of the activation function \n",
    "    # memory is a python dictionary containing \"linear_memory\" and \"activation_memory\"\n",
    "    \n",
    "    if activation == \"sigmoid\":\n",
    "        Z = np.dot(W, H_prev) + b \n",
    "        linear_memory = (H_prev, W, b)\n",
    "        H, activation_memory = sigmoid(Z)\n",
    " \n",
    "    elif activation == \"softmax\":\n",
    "        Z = np.dot(W, H_prev) + b \n",
    "        linear_memory = (H_prev, W, b)\n",
    "        H, activation_memory = softmax(Z)\n",
    "    elif activation == \"relu\":\n",
    "        #print(\" shape w\", W.shape, \" shape H\", H_prev)\n",
    "        Z = np.dot(W, H_prev) + b\n",
    "        linear_memory = (H_prev, W, b)\n",
    "        H, activation_memory = relu(Z)\n",
    "        \n",
    "    assert (H.shape == (W.shape[0], H_prev.shape[1]))\n",
    "    memory = (linear_memory, activation_memory)\n",
    "\n",
    "    return H, memory"
   ]
  },
  {
   "cell_type": "code",
   "execution_count": 35,
   "metadata": {},
   "outputs": [],
   "source": [
    "def multi_layer_forward(X, parameters):\n",
    "\n",
    "    # X is input data of shape (input size, number of examples)\n",
    "    # parameters is output of initialize_parameters()\n",
    "    \n",
    "    # HL is the last layer's post-activation value\n",
    "    # memories is the list of memory containing (for a relu activation, for example):\n",
    "    # - every memory of relu forward (there are L-1 of them, indexed from 1 to L-1), \n",
    "    # - the memory of softmax forward (there is one, indexed L) \n",
    "\n",
    "    memories = []\n",
    "    H = X\n",
    "    L = len(parameters) // 2                  # number of layers in the neural network\n",
    "    #print(L)\n",
    "    # Implement relu layer (L-1) times as the Lth layer is the softmax layer\n",
    "    for l in range(1, L):\n",
    "        H_prev = H \n",
    "        \n",
    "        H, memory = single_layer_forward(H_prev, \n",
    "                                 parameters[\"W\" + str(l)], \n",
    "                                 parameters[\"b\" + str(l)], \n",
    "                                 activation='relu')\n",
    "        memories.append(memory)\n",
    "    \n",
    "    # Implement the final softmax layer\n",
    "    # HL here is the final prediction P as specified in the lectures\n",
    "    HL, memory = single_layer_forward(H,\n",
    "                              parameters[\"W\" + str(L)], \n",
    "                              parameters[\"b\" + str(L)], \n",
    "                              activation='softmax')\n",
    "    memories.append(memory)\n",
    "\n",
    "    assert(HL.shape == (10, X.shape[1]))\n",
    "            \n",
    "    return HL, memories"
   ]
  },
  {
   "cell_type": "code",
   "execution_count": 32,
   "metadata": {},
   "outputs": [],
   "source": [
    "def compute_loss(HL, Y):\n",
    "\n",
    "\n",
    "    # HL is probability matrix of shape (10, number of examples)\n",
    "    # Y is true \"label\" vector shape (10, number of examples)\n",
    "\n",
    "    # loss is the cross-entropy loss\n",
    "\n",
    "    m = Y.shape[1]\n",
    "\n",
    "    loss = (-1./ m) * np.sum(np.multiply(Y, np.log(HL)))\n",
    "    \n",
    "    loss = np.squeeze(loss)      # To make sure that the loss's shape is what we expect (e.g. this turns [[17]] into 17).\n",
    "    assert(loss.shape == ())\n",
    "    \n",
    "    return loss"
   ]
  },
  {
   "cell_type": "code",
   "execution_count": 34,
   "metadata": {
    "scrolled": true
   },
   "outputs": [
    {
     "name": "stdout",
     "output_type": "stream",
     "text": [
      "[[0.4359949  0.02592623 0.54966248 0.43532239 0.4203678 ]\n",
      " [0.33033482 0.20464863 0.61927097 0.29965467 0.26682728]\n",
      " [0.62113383 0.52914209 0.13457995 0.51357812 0.18443987]\n",
      " [0.78533515 0.85397529 0.49423684 0.84656149 0.07964548]\n",
      " [0.50524609 0.0652865  0.42812233 0.09653092 0.12715997]\n",
      " [0.59674531 0.226012   0.10694568 0.22030621 0.34982629]\n",
      " [0.46778748 0.20174323 0.64040673 0.48306984 0.50523672]\n",
      " [0.38689265 0.79363745 0.58000418 0.1622986  0.70075235]\n",
      " [0.96455108 0.50000836 0.88952006 0.34161365 0.56714413]\n",
      " [0.42754596 0.43674726 0.77655918 0.53560417 0.95374223]]\n",
      "[[0. 0. 0. 0. 0.]\n",
      " [0. 0. 0. 0. 1.]\n",
      " [0. 0. 0. 0. 0.]\n",
      " [1. 0. 1. 0. 0.]\n",
      " [0. 0. 0. 0. 0.]\n",
      " [0. 1. 0. 0. 0.]\n",
      " [0. 0. 0. 1. 0.]\n",
      " [0. 0. 0. 0. 0.]\n",
      " [0. 0. 0. 0. 0.]\n",
      " [0. 0. 0. 0. 0.]]\n",
      "0.8964600261334037\n"
     ]
    }
   ],
   "source": [
    "np.random.seed(2)\n",
    "HL_sample = np.random.rand(10,5)\n",
    "Y_sample = train_df_y[:, 10:15]\n",
    "print(HL_sample)\n",
    "print(Y_sample)\n",
    "\n",
    "print(compute_loss(HL_sample, Y_sample))"
   ]
  },
  {
   "cell_type": "markdown",
   "metadata": {},
   "source": [
    "### Backpropagation"
   ]
  },
  {
   "cell_type": "code",
   "execution_count": 36,
   "metadata": {},
   "outputs": [],
   "source": [
    "def sigmoid_backward(dh,memory):\n",
    "    Z = memory\n",
    "    H = 1/(1+np.exp(-Z))\n",
    "    dZ = dH * H * (1-H)\n",
    "    assert (dZ.shape == Z.shape)\n",
    "    \n",
    "    return dZ"
   ]
  },
  {
   "cell_type": "code",
   "execution_count": 37,
   "metadata": {},
   "outputs": [],
   "source": [
    "def relu_backward(dh, memory):\n",
    "    Z=memory\n",
    "    dZ= np.array(dh,copy=True)\n",
    "    dZ[Z <= 0] = 0\n",
    "    assert (dZ.shape == Z.shape)\n",
    "    return dZ"
   ]
  },
  {
   "cell_type": "code",
   "execution_count": 38,
   "metadata": {},
   "outputs": [],
   "source": [
    "def single_layer_backward(dH, memory, activation = 'relu'):\n",
    "    \n",
    "    # takes dH and the memory calculated in layer_forward and activation as input to calculate the dH_prev, dW, db\n",
    "    # performs the backprop depending upon the activation function\n",
    "    \n",
    "\n",
    "    linear_memory, activation_memory = memory\n",
    "    \n",
    "    if activation == \"relu\":\n",
    "        dZ = relu_backward(dH, activation_memory)\n",
    "        H_prev, W, b = linear_memory\n",
    "        m = H_prev.shape[1]\n",
    "        dW = (1. / m) * np.dot(dZ, H_prev.T) \n",
    "        db = (1. / m) * np.sum(dZ, axis=1, keepdims=True)\n",
    "        dH_prev = np.dot(linear_memory[1].T, dZ)\n",
    "\n",
    "    elif activation == \"sigmoid\":\n",
    "        dZ = sigmoid_backward(dH, activation_memory)\n",
    "        H_prev, W, b = linear_memory\n",
    "        m = H_prev.shape[1]\n",
    "        dW = (1. / m) * np.dot(dZ, H_prev.T) \n",
    "        db = (1. / m) * np.sum(dZ, axis=1, keepdims=True)\n",
    "        dH_prev = np.dot(linear_memory[1].T, dZ)\n",
    "    \n",
    "    return dH_prev, dW, db"
   ]
  },
  {
   "cell_type": "code",
   "execution_count": 40,
   "metadata": {},
   "outputs": [
    {
     "name": "stdout",
     "output_type": "stream",
     "text": [
      "dH_prev is \n",
      " [[5.6417525  0.66855959 6.86974666 5.46611139 4.92177244]\n",
      " [2.17997451 0.12963116 2.74831239 2.17661196 2.10183901]]\n",
      "dW is \n",
      " [[1.67565336 1.56891359]\n",
      " [1.39137819 1.4143854 ]\n",
      " [1.3597389  1.43013369]]\n",
      "db is \n",
      " [[0.37345476]\n",
      " [0.34414727]\n",
      " [0.29074635]]\n"
     ]
    }
   ],
   "source": [
    "# Lets test\n",
    "H_prev = np.array([[1,0, 5, 10, 2], [2, 5, 3, 10, 2]])\n",
    "W_sample = np.array([[10, 5], [2, 0], [1, 0]])\n",
    "b_sample = np.array([10, 5, 0]).reshape((3, 1))\n",
    "\n",
    "H, memory = single_layer_forward(H_prev, W_sample, b_sample, activation=\"relu\")\n",
    "np.random.seed(2)\n",
    "dH = np.random.rand(3,5)\n",
    "dH_prev, dW, db = single_layer_backward(dH, memory, activation = 'relu')\n",
    "print('dH_prev is \\n' , dH_prev)\n",
    "print('dW is \\n' ,dW)\n",
    "print('db is \\n', db)"
   ]
  },
  {
   "cell_type": "code",
   "execution_count": 42,
   "metadata": {},
   "outputs": [],
   "source": [
    "def multi_layer_backward(HL,Y,memories):\n",
    "    gradients = {}\n",
    "    L = len(memories) # the number of layers\n",
    "    #print(L)\n",
    "    m = HL.shape[1]\n",
    "    Y = Y.reshape(HL.shape) # after this line, Y is the same shape as AL\n",
    "    \n",
    "    # Perform the backprop for the last layer that is the softmax layer\n",
    "    current_memory = memories[-1]\n",
    "    linear_memory, activation_memory = current_memory\n",
    "    dZ = HL - Y\n",
    "    H_prev, W, b = linear_memory\n",
    "    gradients[\"dH\" + str(L-1)] = np.dot(linear_memory[1].T, dZ)\n",
    "    gradients[\"dW\" + str(L)] = (1. / m) * np.dot(dZ, H_prev.T) \n",
    "    gradients[\"db\" + str(L)] = (1. / m) * np.sum(dZ, axis=1, keepdims=True)\n",
    "     \n",
    "    # Perform the backpropagation l-1 times\n",
    "    for l in reversed(range(L-1)):\n",
    "        # Lth layer gradients: \"gradients[\"dH\" + str(l + 1)] \", gradients[\"dW\" + str(l + 2)] , gradients[\"db\" + str(l + 2)]\n",
    "        current_memory = memories[l]\n",
    "        \n",
    "        dH_prev_temp, dW_temp, db_temp = single_layer_backward(gradients[\"dH\" + str(l + 1)], current_memory, activation=\"relu\")\n",
    "        gradients[\"dH\" + str(l)] = dH_prev_temp\n",
    "        gradients[\"dW\" + str(l + 1)] = dW_temp\n",
    "        gradients[\"db\" + str(l + 1)] = db_temp\n",
    "\n",
    "\n",
    "    return gradients"
   ]
  },
  {
   "cell_type": "code",
   "execution_count": 47,
   "metadata": {},
   "outputs": [
    {
     "name": "stdout",
     "output_type": "stream",
     "text": [
      "dW3 is \n",
      " [[ 2.97223118e-04  1.92239282e-02  1.08132699e-01  3.75994318e-02\n",
      "   8.11324658e-03  4.34206842e-02  1.52914283e-02  0.00000000e+00\n",
      "   1.33793457e-02  6.77858775e-03  2.58199644e-02  1.04253648e-02\n",
      "   2.29850493e-02  4.69443953e-02  6.75200373e-03  1.19886261e-01\n",
      "   4.30647178e-02  6.16379238e-02  6.78481416e-02  4.95798877e-02\n",
      "   2.75532444e-03  3.19768445e-02  5.93744529e-02  1.62289613e-02\n",
      "   6.02748527e-02  7.52515266e-02  3.88898986e-02  1.15426911e-02\n",
      "   7.83670359e-02  4.06326662e-02  0.00000000e+00  3.85225798e-02\n",
      "   9.68157205e-02  4.95705562e-02  5.59745638e-02  3.87598333e-03\n",
      "   0.00000000e+00  6.88041161e-03  6.51068962e-03  1.24615641e-02\n",
      "   0.00000000e+00  2.07803381e-02  1.50352126e-02  3.04744028e-02\n",
      "   2.53949815e-02]\n",
      " [ 5.52259382e-04  2.66265169e-02  1.44289265e-01  4.93487608e-03\n",
      "  -7.80501140e-02 -3.85146679e-02  2.18903276e-02  0.00000000e+00\n",
      "  -5.42160801e-03 -1.20391825e-02 -3.41857997e-03  1.50016603e-02\n",
      "   2.24588006e-02  1.69117801e-02  7.12500150e-03  9.78226373e-02\n",
      "   5.47578544e-02 -7.10482465e-02  8.08905431e-02  8.03492875e-04\n",
      "   3.92182957e-03  3.89643919e-02  7.36497065e-02 -6.32326462e-03\n",
      "   2.04984612e-02  3.05756555e-02  3.14915927e-02 -1.40428212e-02\n",
      "   9.74114690e-02  4.68191710e-02  0.00000000e+00 -2.66562532e-02\n",
      "   3.55697633e-02  5.77046900e-02 -1.38550289e-02  6.11332982e-03\n",
      "   0.00000000e+00  1.06706029e-02  1.13540558e-02  1.70877348e-02\n",
      "   0.00000000e+00  2.56182207e-02  1.88047138e-02 -3.45586177e-02\n",
      "   3.25377256e-02]\n",
      " [ 1.48054234e-04  1.27293643e-02 -8.85849239e-02  2.74004787e-02\n",
      "   7.47677781e-03 -4.66696989e-02  1.00715075e-02  0.00000000e+00\n",
      "   1.22430948e-02 -1.25488623e-02 -2.01799685e-02  7.81958787e-03\n",
      "  -6.81852481e-02  3.36370053e-02  4.41794786e-03 -2.16935677e-02\n",
      "  -5.51154006e-02 -7.08078679e-02  1.99838358e-02 -2.34017286e-02\n",
      "   1.75730856e-03 -2.57551855e-03 -1.51312826e-02  1.27050339e-02\n",
      "   4.50613117e-02  4.80567629e-02 -3.75168930e-02  7.89987589e-03\n",
      "  -4.19163324e-02 -5.06798368e-02  0.00000000e+00 -3.26453584e-02\n",
      "  -7.44291380e-03  3.29325896e-02  4.14116985e-02  2.48439354e-03\n",
      "   0.00000000e+00 -2.59141972e-03  4.66879922e-03  1.08961872e-02\n",
      "   0.00000000e+00 -6.60909538e-02 -3.24773345e-02 -4.05131050e-02\n",
      "   1.68159698e-02]\n",
      " [ 2.44639432e-04 -3.56114734e-03 -8.95025701e-02 -7.90073241e-02\n",
      "   6.42616175e-03 -9.54410619e-02 -3.87320685e-02  0.00000000e+00\n",
      "   1.06091901e-02  5.24670530e-03 -8.15685249e-03  1.13293048e-02\n",
      "   2.05756056e-02 -2.47922578e-01  7.24531790e-03 -1.57899542e-01\n",
      "  -5.40664021e-02 -4.80835847e-02 -9.69944948e-02 -1.74864306e-01\n",
      "  -1.73476965e-02 -3.76905174e-04  8.62022921e-03 -6.93874956e-02\n",
      "   1.25609658e-03 -1.73023701e-01  3.42494495e-02  1.20903185e-02\n",
      "  -4.46863147e-01 -1.79849221e-01  0.00000000e+00 -5.98492441e-02\n",
      "  -1.90222235e-01 -4.85877707e-02 -2.38938581e-01  4.88306480e-03\n",
      "   0.00000000e+00  5.16203188e-03  5.38397299e-03  9.16042174e-03\n",
      "   0.00000000e+00 -2.32406501e-02 -5.69878859e-02 -5.65890638e-02\n",
      "   2.84913842e-02]\n",
      " [ 2.47865794e-04  1.41257320e-02  6.69317058e-02  2.73625729e-02\n",
      "   1.14063016e-02  3.18364713e-02  8.91199449e-03  0.00000000e+00\n",
      "   1.18977648e-02  6.20578893e-03  1.82524126e-02  8.22402142e-03\n",
      "   1.24723218e-02  2.76324936e-02  4.55892179e-03  8.33048215e-02\n",
      "   2.51042892e-02  4.85963271e-02  4.64219911e-02  3.38368596e-02\n",
      "   1.28589286e-03  2.21933039e-02  4.00776747e-02  1.11810348e-02\n",
      "   4.64723754e-02  5.17432940e-02  2.51222281e-02  1.00139411e-02\n",
      "   3.68999081e-02  1.98414093e-02  0.00000000e+00  2.97706985e-02\n",
      "   6.55953370e-02  3.28145854e-02  3.77529712e-02  3.55916304e-03\n",
      "   0.00000000e+00  4.72730962e-03  5.73030221e-03  8.98980860e-03\n",
      "   0.00000000e+00  1.00713516e-02  6.67587145e-03  2.25894995e-02\n",
      "   1.89895364e-02]\n",
      " [ 2.98847348e-04  2.29431968e-02  6.84376145e-02 -2.08839668e-02\n",
      "   4.65729742e-03 -2.09553745e-02  1.52156818e-02  0.00000000e+00\n",
      "  -5.05632587e-02 -2.43576287e-02  1.94338619e-02 -1.54414833e-04\n",
      "   1.84104708e-02  1.31400013e-02  4.05138946e-03  3.88634120e-02\n",
      "   4.47477127e-02  5.81760778e-02  1.70389230e-02 -7.32200103e-02\n",
      "   1.40567935e-03  3.09701265e-02  5.55383229e-02 -2.69958332e-02\n",
      "  -3.65862349e-02  1.75401888e-02  4.62869176e-02  1.01277969e-02\n",
      "   4.20923512e-02  2.40905440e-02  0.00000000e+00  2.92440845e-02\n",
      "  -7.96107295e-02  4.50800996e-02  3.94113122e-02  4.72683859e-03\n",
      "   0.00000000e+00  7.87251199e-03 -2.11371486e-02 -4.11499733e-02\n",
      "   0.00000000e+00  1.84419701e-02  8.84115628e-03  2.54187888e-02\n",
      "   3.09285602e-02]\n",
      " [-2.59058987e-03  1.25718145e-02 -3.02378228e-01 -8.25942564e-03\n",
      "   1.44990077e-02  3.03803770e-02 -4.84508191e-02  0.00000000e+00\n",
      "  -2.95208449e-02  8.29123852e-03 -1.09166705e-01 -1.19600120e-03\n",
      "   1.57850263e-02 -1.45214840e-02  4.64855419e-03 -1.03554845e-01\n",
      "  -9.74984860e-02  1.22412967e-02 -8.83920795e-02  4.73678035e-02\n",
      "  -8.98268310e-04 -5.29352462e-03 -2.94433991e-02  1.59193753e-02\n",
      "  -9.40339044e-02 -1.66930442e-01 -9.59488820e-02  1.07594613e-02\n",
      "   3.99927247e-02  2.98984961e-02  0.00000000e+00 -5.77213006e-02\n",
      "  -1.66464188e-01  3.53015582e-02  5.00142805e-02  3.17607854e-03\n",
      "   0.00000000e+00 -5.34312378e-02 -3.23830980e-02 -6.12704193e-02\n",
      "   0.00000000e+00 -3.13150684e-02  1.05196740e-02  2.15707251e-02\n",
      "   3.06319438e-03]\n",
      " [ 2.12347737e-04 -2.02758546e-02  9.19433061e-02 -3.53446390e-02\n",
      "   7.18313995e-03  2.62531082e-02  7.87779352e-03  0.00000000e+00\n",
      "   1.36138641e-02  6.75045468e-03  2.18825787e-02 -2.88640648e-03\n",
      "  -8.35002818e-02  3.01940286e-02 -3.39937184e-02  3.30454946e-02\n",
      "   3.70242974e-02  5.23710729e-02 -1.13246054e-02  3.84498769e-02\n",
      "   1.64026923e-03 -7.07315357e-02 -7.36106051e-02  1.17166732e-02\n",
      "  -6.86814548e-02  5.90499020e-02 -3.74258883e-02 -3.88646445e-02\n",
      "   5.12813214e-02  5.29106036e-05  0.00000000e+00  2.98531359e-02\n",
      "   8.22715232e-02 -1.40273956e-01  3.74652015e-02  2.63391703e-03\n",
      "   0.00000000e+00  6.09094621e-03  5.45156920e-03  1.32316863e-02\n",
      "   0.00000000e+00  1.18279391e-02  2.66767345e-04  2.52450429e-02\n",
      "  -5.79647897e-02]\n",
      " [ 2.42450702e-04 -4.73027731e-02 -1.04450769e-01  3.14780745e-02\n",
      "   9.13159894e-03  2.35898143e-02 -8.64035554e-03  0.00000000e+00\n",
      "   9.35011461e-03  8.42385789e-03  2.94303540e-02 -4.72449852e-02\n",
      "   1.90344499e-02  3.90327023e-02 -1.11975948e-02 -7.09202807e-02\n",
      "  -3.71710469e-02 -7.13027509e-02 -5.20315735e-02  4.79187991e-02\n",
      "   2.14874252e-03  2.55268161e-03 -8.38161805e-02  1.54093708e-02\n",
      "   1.11446700e-02  4.34389444e-03 -4.09632868e-02  8.63769545e-03\n",
      "   6.49070547e-02  3.42116237e-02  0.00000000e+00  3.62058801e-02\n",
      "   7.11039924e-02 -8.84966665e-03 -1.57197332e-02  3.23190903e-03\n",
      "   0.00000000e+00  7.66256642e-03  6.65332652e-03  1.80276865e-02\n",
      "   0.00000000e+00  1.45193810e-02  1.34876783e-02 -2.44706900e-02\n",
      "  -5.84878538e-02]\n",
      " [ 3.46902127e-04 -3.70807776e-02  1.05181900e-01  1.47199217e-02\n",
      "   9.15658222e-03  4.61003482e-02  1.65645099e-02  0.00000000e+00\n",
      "   1.44123375e-02  7.24904044e-03  2.61029347e-02 -1.31813147e-03\n",
      "   1.99638057e-02  5.49516558e-02  6.39217673e-03 -1.88543907e-02\n",
      "   3.91524641e-02  2.82197517e-02  1.65593186e-02  5.35293256e-02\n",
      "   3.33091826e-03 -4.76798644e-02 -3.52589188e-02  1.95461442e-02\n",
      "   1.45938266e-02  5.33929194e-02  3.58148637e-02 -1.81643145e-02\n",
      "   7.78276140e-02  3.49822370e-02  0.00000000e+00  1.32757774e-02\n",
      "   9.23837297e-02 -5.56926859e-02  6.48331550e-03 -3.46846777e-02\n",
      "   0.00000000e+00  6.95627690e-03  7.76753109e-03  1.25653033e-02\n",
      "   0.00000000e+00  1.93874717e-02  1.58341466e-02  3.08330175e-02\n",
      "  -3.97687085e-02]]\n",
      "db3 is \n",
      " [[ 0.10775862]\n",
      " [ 0.04475268]\n",
      " [-0.01807172]\n",
      " [-0.1152066 ]\n",
      " [ 0.07711892]\n",
      " [-0.0009417 ]\n",
      " [-0.10281053]\n",
      " [-0.01319818]\n",
      " [ 0.0074315 ]\n",
      " [ 0.013167  ]]\n",
      "dW2 is \n",
      " [[0. 0. 0. ... 0. 0. 0.]\n",
      " [0. 0. 0. ... 0. 0. 0.]\n",
      " [0. 0. 0. ... 0. 0. 0.]\n",
      " ...\n",
      " [0. 0. 0. ... 0. 0. 0.]\n",
      " [0. 0. 0. ... 0. 0. 0.]\n",
      " [0. 0. 0. ... 0. 0. 0.]]\n",
      "db2 is \n",
      " [[-0.00176379]\n",
      " [-0.00647535]\n",
      " [-0.01265247]\n",
      " [-0.01166367]\n",
      " [ 0.00025278]\n",
      " [ 0.00195575]\n",
      " [ 0.01203626]\n",
      " [ 0.        ]\n",
      " [-0.01689166]\n",
      " [ 0.0010036 ]\n",
      " [ 0.02371025]\n",
      " [ 0.01141598]\n",
      " [-0.01711318]\n",
      " [ 0.01050311]\n",
      " [ 0.01582594]\n",
      " [ 0.01155441]\n",
      " [-0.03154577]\n",
      " [-0.0106516 ]\n",
      " [ 0.03260061]\n",
      " [ 0.0061771 ]\n",
      " [ 0.01500451]\n",
      " [ 0.0043473 ]\n",
      " [-0.00434033]\n",
      " [ 0.03167533]\n",
      " [-0.02744072]\n",
      " [ 0.01364798]\n",
      " [ 0.00143968]\n",
      " [-0.00161699]\n",
      " [-0.0027219 ]\n",
      " [ 0.00268566]\n",
      " [ 0.        ]\n",
      " [-0.02784093]\n",
      " [ 0.01668644]\n",
      " [ 0.0272768 ]\n",
      " [ 0.0071973 ]\n",
      " [-0.00330519]\n",
      " [ 0.        ]\n",
      " [ 0.00703377]\n",
      " [ 0.01637545]\n",
      " [ 0.02270815]\n",
      " [ 0.        ]\n",
      " [ 0.02645898]\n",
      " [-0.01507931]\n",
      " [ 0.00899533]\n",
      " [ 0.03281862]]\n"
     ]
    }
   ],
   "source": [
    "# Lets test it\n",
    "x_sample = train_df_X[:, 10:20]\n",
    "y_sample = train_df_y[:, 10:20]\n",
    "\n",
    "HL, memories = multi_layer_forward(x_sample, parameters=parameters)\n",
    "gradients  = multi_layer_backward(HL, y_sample, memories)\n",
    "print('dW3 is \\n', gradients['dW2'])\n",
    "print('db3 is \\n', gradients['db2'])\n",
    "print('dW2 is \\n', gradients['dW1'])\n",
    "print('db2 is \\n', gradients['db1'])"
   ]
  },
  {
   "cell_type": "code",
   "execution_count": 48,
   "metadata": {},
   "outputs": [
    {
     "data": {
      "text/plain": [
       "dict_keys(['dH1', 'dW2', 'db2', 'dH0', 'dW1', 'db1'])"
      ]
     },
     "execution_count": 48,
     "metadata": {},
     "output_type": "execute_result"
    }
   ],
   "source": [
    "gradients.keys() # these are generated as we have only 1 hidden layer"
   ]
  },
  {
   "cell_type": "markdown",
   "metadata": {},
   "source": [
    "#### Updating weights and biases"
   ]
  },
  {
   "cell_type": "code",
   "execution_count": 49,
   "metadata": {},
   "outputs": [],
   "source": [
    "def update_parameters(parameters, gradients, learning_rate):\n",
    "\n",
    "    # parameters is the python dictionary containing the parameters W and b for all the layers\n",
    "    # gradients is the python dictionary containing your gradients, output of L_model_backward\n",
    "    \n",
    "    # returns updated weights after applying the gradient descent update\n",
    "\n",
    "    \n",
    "    L = len(parameters) // 2 # number of layers in the neural network\n",
    "\n",
    "    for l in range(L):\n",
    "        parameters[\"W\" + str(l+1)] = parameters[\"W\" + str(l+1)] - learning_rate * gradients[\"dW\" + str(l+1)]\n",
    "        parameters[\"b\" + str(l+1)] = parameters[\"b\" + str(l+1)] - learning_rate * gradients[\"db\" + str(l+1)]\n",
    "\n",
    "        \n",
    "    return parameters"
   ]
  },
  {
   "cell_type": "markdown",
   "metadata": {},
   "source": [
    "#### Now we are ready to build model"
   ]
  },
  {
   "cell_type": "code",
   "execution_count": 81,
   "metadata": {},
   "outputs": [],
   "source": [
    "def ann_model(X, Y, dimensions, learning_rate = 0.0075, num_iterations = 3000, print_loss=False):\n",
    "    \n",
    "    # X and Y are the input training datasets\n",
    "    # learning_rate, num_iterations are gradient descent optimization parameters\n",
    "    # returns updated parameters\n",
    "\n",
    "    np.random.seed(2)\n",
    "    losses = []                         # keep track of loss\n",
    "    \n",
    "    # Parameters initialization\n",
    "    parameters = initialize_parameters(dimensions)\n",
    " \n",
    "    for i in range(0, num_iterations):\n",
    "\n",
    "        # Forward propagation\n",
    "        HL, memories = multi_layer_forward(X, parameters)\n",
    "        \n",
    "        # Compute loss\n",
    "        loss = compute_loss(HL, Y)\n",
    "    \n",
    "        # Backward propagation\n",
    "        gradients = multi_layer_backward(HL, Y, memories)\n",
    " \n",
    "        # Update parameters.\n",
    "        parameters = update_parameters(parameters, gradients, learning_rate)\n",
    "                \n",
    "        # Printing the loss every 100 training example\n",
    "        if print_loss and i % 100 == 0:\n",
    "            print (\"Loss after iteration %i: %f\" %(i, loss))\n",
    "            losses.append(loss)\n",
    "            \n",
    "    # plotting the loss\n",
    "    plt.plot(np.squeeze(losses))\n",
    "    plt.ylabel('loss')\n",
    "    plt.xlabel('iterations (per tens)')\n",
    "    plt.title(\"Learning rate =\" + str(learning_rate))\n",
    "    plt.show()\n",
    "    \n",
    "    return parameters"
   ]
  },
  {
   "cell_type": "markdown",
   "metadata": {},
   "source": [
    "### Finally We are ready, I'm so excited ☺"
   ]
  },
  {
   "cell_type": "code",
   "execution_count": 82,
   "metadata": {
    "scrolled": true
   },
   "outputs": [
    {
     "name": "stdout",
     "output_type": "stream",
     "text": [
      "(784, 5000) (10, 5000)\n"
     ]
    }
   ],
   "source": [
    "# Lets test for first 5000 data\n",
    "train_df_X_1 = train_df_X[:,0:5000]\n",
    "train_df_y_1 = train_df_y[:,0:5000]\n",
    "print(train_df_X_1.shape,train_df_y_1.shape)"
   ]
  },
  {
   "cell_type": "code",
   "execution_count": 84,
   "metadata": {},
   "outputs": [
    {
     "data": {
      "text/plain": [
       "[784, 45, 10]"
      ]
     },
     "execution_count": 84,
     "metadata": {},
     "output_type": "execute_result"
    }
   ],
   "source": [
    "dimensions"
   ]
  },
  {
   "cell_type": "code",
   "execution_count": 85,
   "metadata": {},
   "outputs": [
    {
     "name": "stdout",
     "output_type": "stream",
     "text": [
      "Loss after iteration 0: 2.422624\n",
      "Loss after iteration 100: 2.129232\n",
      "Loss after iteration 200: 1.876095\n",
      "Loss after iteration 300: 1.604213\n",
      "Loss after iteration 400: 1.350205\n",
      "Loss after iteration 500: 1.144823\n",
      "Loss after iteration 600: 0.990554\n",
      "Loss after iteration 700: 0.876603\n",
      "Loss after iteration 800: 0.791154\n",
      "Loss after iteration 900: 0.725441\n",
      "Loss after iteration 1000: 0.673485\n",
      "Loss after iteration 1100: 0.631386\n",
      "Loss after iteration 1200: 0.596598\n",
      "Loss after iteration 1300: 0.567342\n",
      "Loss after iteration 1400: 0.542346\n",
      "Loss after iteration 1500: 0.520746\n",
      "Loss after iteration 1600: 0.501865\n",
      "Loss after iteration 1700: 0.485205\n",
      "Loss after iteration 1800: 0.470368\n",
      "Loss after iteration 1900: 0.457054\n"
     ]
    },
    {
     "data": {
      "image/png": "[encoded data removed]",
      "text/plain": [
       "<Figure size 432x288 with 1 Axes>"
      ]
     },
     "metadata": {
      "needs_background": "light"
     },
     "output_type": "display_data"
    }
   ],
   "source": [
    "# Ahahaha, lets go\n",
    "params = ann_model(train_df_X_1,train_df_y_1,dimensions, num_iterations = 2000, print_loss = True)"
   ]
  },
  {
   "cell_type": "code",
   "execution_count": 86,
   "metadata": {},
   "outputs": [],
   "source": [
    "# lets write the prediction function while it runs\n",
    "def predict(X,y,parameters):\n",
    "    # Forward propagation\n",
    "    probas, memo = multi_layer_forward(X, parameters)\n",
    "    \n",
    "    p = np.argmax(probas, axis = 0)\n",
    "    act = np.argmax(y, axis = 0)\n",
    "    \n",
    "    acu = np.sum((p==act)/X.shape[1])\n",
    "    return p, acu"
   ]
  },
  {
   "cell_type": "code",
   "execution_count": 87,
   "metadata": {},
   "outputs": [
    {
     "name": "stdout",
     "output_type": "stream",
     "text": [
      "0.8774000000000002\n"
     ]
    }
   ],
   "source": [
    "train_df_y_pred, accuracy = predict(train_df_X_1,train_df_y_1,params)\n",
    "print(accuracy)"
   ]
  },
  {
   "cell_type": "markdown",
   "metadata": {},
   "source": [
    "- pretty good for 5000 observations"
   ]
  },
  {
   "cell_type": "code",
   "execution_count": 88,
   "metadata": {},
   "outputs": [
    {
     "name": "stdout",
     "output_type": "stream",
     "text": [
      "0.8304000000000001\n"
     ]
    }
   ],
   "source": [
    "# lets try predict on test set using these params\n",
    "test_X_1 =test_X[:,0:5000]\n",
    "test_y_1 = test_y[:,0:5000]\n",
    "test_pred, accuracy = predict(test_X_1,test_y_1,params)\n",
    "print(accuracy)"
   ]
  },
  {
   "cell_type": "markdown",
   "metadata": {},
   "source": [
    "- I am okay with it we will include more samples during training"
   ]
  },
  {
   "cell_type": "code",
   "execution_count": 89,
   "metadata": {},
   "outputs": [
    {
     "data": {
      "text/plain": [
       "Text(0.5, 1.0, 'True Label: 5 Predicted label: 0')"
      ]
     },
     "execution_count": 89,
     "metadata": {},
     "output_type": "execute_result"
    },
    {
     "data": {
      "image/png": "[encoded data removed]",
      "text/plain": [
       "<Figure size 72x72 with 1 Axes>"
      ]
     },
     "metadata": {
      "needs_background": "light"
     },
     "output_type": "display_data"
    }
   ],
   "source": [
    "# Lets play with it in test set\n",
    "import random\n",
    "n= random.randint(0,5000)\n",
    "pict = test_X_1[:,n]\n",
    "truelabel = np.argmax(test_y_1, axis=0)[n]\n",
    "predictedlabel= int(test_pred[n])\n",
    "plt.figure(figsize=(1,1))\n",
    "plt.imshow(pict.reshape(28,28),cmap=\"Greys\")\n",
    "plt.title(\"True Label: \"+str(truelabel)+\" Predicted label: \"+str(predictedlabel))"
   ]
  }
 ],
 "metadata": {
  "kernelspec": {
   "display_name": "Python 3",
   "language": "python",
   "name": "python3"
  },
  "language_info": {
   "codemirror_mode": {
    "name": "ipython",
    "version": 3
   },
   "file_extension": ".py",
   "mimetype": "text/x-python",
   "name": "python",
   "nbconvert_exporter": "python",
   "pygments_lexer": "ipython3",
   "version": "3.7.3"
  }
 },
 "nbformat": 4,
 "nbformat_minor": 5
}
