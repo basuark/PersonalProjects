{
 "cells": [
  {
   "cell_type": "code",
   "execution_count": 1,
   "id": "48358ba9",
   "metadata": {},
   "outputs": [],
   "source": [
    "from ForecastAnyStock import Forecast1"
   ]
  },
  {
   "cell_type": "code",
   "execution_count": null,
   "id": "d9604a4d",
   "metadata": {},
   "outputs": [],
   "source": [
    "STOCKS_SCREENED_FOR21MAY=['PFC.NS','IBULHSGFIN','MOTHERSUMI']"
   ]
  },
  {
   "cell_type": "code",
   "execution_count": 7,
   "id": "19cae9f0",
   "metadata": {},
   "outputs": [
    {
     "data": {
      "text/plain": [
       "(125.47373962402344, 0.1283048689365387)"
      ]
     },
     "execution_count": 7,
     "metadata": {},
     "output_type": "execute_result"
    }
   ],
   "source": [
    "# tARGET, NORMALIZED TEST LOSS - PFC.NS\n",
    "predict,  loss=Forecast1('PFC.NS')\n",
    "pfcnsT,pfcnsL= predict,  loss"
   ]
  },
  {
   "cell_type": "code",
   "execution_count": 3,
   "id": "48bb8428",
   "metadata": {},
   "outputs": [
    {
     "data": {
      "text/plain": [
       "(189.91, 0.09625782817602158)"
      ]
     },
     "execution_count": 3,
     "metadata": {},
     "output_type": "execute_result"
    }
   ],
   "source": [
    "# MOTHERSUMI\n",
    "MSpredict,MSloss = Forecast1('MOTHERSUMI.NS')\n",
    "MSpredict,MSloss"
   ]
  },
  {
   "cell_type": "code",
   "execution_count": null,
   "id": "41ecd0d8",
   "metadata": {},
   "outputs": [],
   "source": [
    "# tARGET, NORMALIZED TEST LOSS - IBULHSGFIN.NS\n",
    "predict,  loss=Forecast1('IBULHSGFIN.NS')\n",
    "predict,  loss"
   ]
  }
 ],
 "metadata": {
  "kernelspec": {
   "display_name": "Python 3 (ipykernel)",
   "language": "python",
   "name": "python3"
  },
  "language_info": {
   "codemirror_mode": {
    "name": "ipython",
    "version": 3
   },
   "file_extension": ".py",
   "mimetype": "text/x-python",
   "name": "python",
   "nbconvert_exporter": "python",
   "pygments_lexer": "ipython3",
   "version": "3.10.0"
  }
 },
 "nbformat": 4,
 "nbformat_minor": 5
}
